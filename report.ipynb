{
 "cells": [
  {
   "cell_type": "markdown",
   "id": "6e4f2755-8509-4ddc-a8a2-127cd153db45",
   "metadata": {},
   "source": [
    "# Отчет \n",
    "## Графовые нейронные сети на базе слов для решения задачи Page Layout Analysis"
   ]
  },
  {
   "cell_type": "markdown",
   "id": "8139ef4e-8762-4224-8cd7-9e657be2ea8f",
   "metadata": {},
   "source": [
    "**Задача**: Кратко сформулировать, какую проблему решает новая архитектура.\n",
    "\n",
    "**Гипотеза**: Какие предположения лежат в основе нового подхода?\n",
    "\n",
    "**Ожидания**: Какие улучшения предполагаются (скорость, точность, устойчивость и т. д.)?\n",
    "\n",
    "\n",
    "Нужно где-то сказать про GLAM, и что она решает две задачи."
   ]
  },
  {
   "cell_type": "markdown",
   "id": "90f71f62-aceb-4ae3-a53d-f70a0cf756fb",
   "metadata": {},
   "source": [
    "### Метрика качества\n",
    "- F1 @ WordIoU [0.5, 0.95]\n",
    "- mAP @ IoU [0.50:0.95]\n",
    "- time\n",
    "\n",
    "$$WordIoU = \\frac{WordI}{WordU}$$\n",
    "\n",
    "$WordI$-число слов в пересекающейся области\n",
    "\n",
    "$WordU$-число слов в объединенной области"
   ]
  },
  {
   "cell_type": "markdown",
   "id": "e336ec11-aef1-4181-8885-d45b97592322",
   "metadata": {},
   "source": [
    "# Текущая SOTA на данных метриках (200 из val publaynet) \n",
    "\n",
    "|model|F1 WordIoU 0.50/0.95 | mAP @IoU [0.50:0.95] | time (file/sec)|\n",
    "|-----|---------------------|----------------------|----------------|\n",
    "| VGT |0.9985/0.8613        | 0.8713               |0.5792\n"
   ]
  },
  {
   "cell_type": "markdown",
   "id": "b72495fe-87f0-4e57-9601-39bc16ce59bc",
   "metadata": {},
   "source": [
    "# Локальные эксперименты\n",
    "Локальные эксперименты проводятся на 1000 документах из train и нужны для качетсвенной оценки подходов\n",
    "\n",
    "Тестирование серий происходит на 50 файлах"
   ]
  },
  {
   "cell_type": "code",
   "execution_count": 10,
   "id": "8b53abe3-e63e-4884-9d43-b2a8ffcd05b9",
   "metadata": {
    "jupyter": {
     "source_hidden": true
    }
   },
   "outputs": [],
   "source": [
    "import re\n",
    "import matplotlib.pyplot as plt\n",
    "\n",
    "def extract_metrics_from_file(file_content):\n",
    "    \"\"\"\n",
    "    Извлекает метрики F1 (IoU=0.50 и IoU=0.95), mAP и время из текста файла.\n",
    "    \n",
    "    Args:\n",
    "        file_content (str): Содержимое файла с метриками.\n",
    "    \n",
    "    Returns:\n",
    "        dict: Словарь с извлеченными метриками.\n",
    "            {\n",
    "                \"F1_0.50\": float,\n",
    "                \"F1_0.95\": float,\n",
    "                \"mAP\": float,\n",
    "                \"time\": float\n",
    "            }\n",
    "    \"\"\"\n",
    "    metrics = {\n",
    "        \"F1_0.50\": None,\n",
    "        \"F1_0.95\": None,\n",
    "        \"mAP\": None,\n",
    "        \"time\": None\n",
    "    }\n",
    "    \n",
    "    # Извлекаем F1 (IoU=0.50)\n",
    "    f1_50_match = re.search(r\"F1 \\(IoU=0\\.50\\):\\s+([0-9.]+)\", file_content)\n",
    "    if f1_50_match:\n",
    "        metrics[\"F1_0.50\"] = float(f1_50_match.group(1))\n",
    "    \n",
    "    # Извлекаем F1 (IoU=0.95)\n",
    "    f1_95_match = re.search(r\"F1 \\(IoU=0\\.95\\):\\s+([0-9.]+)\", file_content)\n",
    "    if f1_95_match:\n",
    "        metrics[\"F1_0.95\"] = float(f1_95_match.group(1))\n",
    "    \n",
    "    # Извлекаем mAP\n",
    "    map_match = re.search(r\"mAP@IoU\\[0\\.50:0\\.95\\]\\s*=\\s*([0-9.]+)\", file_content)\n",
    "    if map_match:\n",
    "        metrics[\"mAP\"] = float(map_match.group(1))\n",
    "    \n",
    "    # Извлекаем время\n",
    "    time_match = re.search(r\"mean time:\\s+([0-9.]+)\\s*sec\", file_content)\n",
    "    if time_match:\n",
    "        metrics[\"time\"] = float(time_match.group(1))\n",
    "    \n",
    "    return metrics\n",
    "\n",
    "def read_res_test(header, name):\n",
    "    with open(f'{header}/{name}/test_result.txt') as f:\n",
    "         return extract_metrics_from_file(f.read())"
   ]
  },
  {
   "cell_type": "markdown",
   "id": "7487b5dd-23ca-4b79-a10c-82355b5be9d5",
   "metadata": {},
   "source": [
    "### Exp 1. (balans)\n",
    "Число классов в данных не равномерное. Это относится как к классификации, так и сегментации. Первый эксперимент направлен на выявление значимости балансировки.\n",
    "\n"
   ]
  },
  {
   "cell_type": "code",
   "execution_count": 29,
   "id": "d2e9d4eb-5c4a-4bbd-88af-e082701dc65b",
   "metadata": {},
   "outputs": [
    {
     "name": "stdout",
     "output_type": "stream",
     "text": [
      "exp \t F1_0.50 \t F1_0.95 \t mAP\n",
      "01_no\t0.0742115\t0.02597403\t0.00330477\n",
      "02_yes\t0.43432203\t0.24152542\t0.05744661\n",
      "03_heur\t0.4773022\t0.23605707\t0.05522135\n"
     ]
    }
   ],
   "source": [
    "print(\"exp \\t F1_0.50 \\t F1_0.95 \\t mAP\")\n",
    "for obj in ['01_no', '02_yes', '03_heuristics']:\n",
    "    print(obj if len(obj) <7 else obj[:7], end='\\t')\n",
    "    r = read_res_test('exp_01_balans', obj)\n",
    "    print(f'{r['F1_0.50']}\\t{r['F1_0.95'] }\\t{r['mAP']}')"
   ]
  },
  {
   "cell_type": "markdown",
   "id": "2bf89a33-7a96-4a95-ac79-d4513033349c",
   "metadata": {},
   "source": [
    "### Exp 2. (Edge loss + Node loss)\n",
    "Исходная модель направлена на решение сразу двух задач. Из архитектуры видно, что задача классификации решается раньше сегментации. Поэтому возникает вопрос, а если решать задачу только сегментации, необходимо ли включать в функцию потерь составляющую для классификации и если да, то в каком соотношение с loss для сегментации."
   ]
  },
  {
   "cell_type": "markdown",
   "id": "ff8e4dc2-2a44-4eb1-88be-af66ed747ce0",
   "metadata": {},
   "source": [
    "$$Loss=\\alpha Loss_{node} + (1-\\alpha) Loss_{edge}$$"
   ]
  },
  {
   "cell_type": "code",
   "execution_count": 20,
   "id": "b9b7fd96-9cff-407f-84fc-bf2890b51b89",
   "metadata": {},
   "outputs": [
    {
     "name": "stdout",
     "output_type": "stream",
     "text": [
      "01_005\n",
      "{'F1_0.50': 0.33846154, 'F1_0.95': 0.14945055, 'mAP': 0.03773091, 'time': 3.2572}\n",
      "02_025\n",
      "{'F1_0.50': 0.4601227, 'F1_0.95': 0.26175869, 'mAP': 0.060892, 'time': 3.2087}\n",
      "03_050\n",
      "{'F1_0.50': 0.49888641, 'F1_0.95': 0.26948775, 'mAP': 0.06764539, 'time': 3.2513}\n",
      "04_075\n",
      "{'F1_0.50': 0.46884273, 'F1_0.95': 0.2611276, 'mAP': 0.05822105, 'time': 3.1955}\n",
      "05_095\n",
      "{'F1_0.50': 0.47363718, 'F1_0.95': 0.27524576, 'mAP': 0.06179598, 'time': 3.1927}\n"
     ]
    },
    {
     "data": {
      "text/plain": [
       "Text(0.5, 0, 'a')"
      ]
     },
     "execution_count": 20,
     "metadata": {},
     "output_type": "execute_result"
    },
    {
     "data": {
      "image/png": "[encoded data removed]",
      "text/plain": [
       "<Figure size 640x480 with 1 Axes>"
      ]
     },
     "metadata": {},
     "output_type": "display_data"
    }
   ],
   "source": [
    "\n",
    "rez = []\n",
    "t = [0.05, 0.25, 0.50, 0.75, 0.95]\n",
    "for obj in ['01_005', '02_025', '03_050', '04_075', '05_095']:\n",
    "    print(obj)\n",
    "    r = read_res_test('exp_02_complex_loss', obj)\n",
    "    print(r)\n",
    "    rez.append(r)\n",
    "\n",
    "f1_50 = [r['F1_0.50'] for r in rez]\n",
    "f1_95 = [r['F1_0.95'] for r in rez]\n",
    "\n",
    "plt.grid()\n",
    "plt.plot(t, f1_50, label=\"f1 @ WordIoU 0.50\")\n",
    "plt.plot(t, f1_95, label=\"f1 @ WordIoU 0.95\")\n",
    "plt.legend()\n",
    "plt.xlabel('a')"
   ]
  },
  {
   "cell_type": "markdown",
   "id": "c40f1950-0ccf-4d80-8557-b7e081dbfbcd",
   "metadata": {},
   "source": [
    "### Exp 3. (count Tag)\n",
    "Число слоев может отличаться, поскольку слов в документе на много больше, чем строк."
   ]
  },
  {
   "cell_type": "code",
   "execution_count": 30,
   "id": "9e067fb1-4471-4f32-a47f-bf3aaa4f0caf",
   "metadata": {},
   "outputs": [
    {
     "name": "stdout",
     "output_type": "stream",
     "text": [
      "exp \t F1_0.50 \t F1_0.95 \t mAP\n",
      "01_2\t0.45488029\t0.25966851\t0.05943854\n",
      "02_3\t0.46349206\t0.24761905\t0.06030691\n",
      "03_4\t0.44549763\t0.25592417\t0.05827855\n"
     ]
    }
   ],
   "source": [
    "print(\"exp \\t F1_0.50 \\t F1_0.95 \\t mAP\")\n",
    "for obj in ['01_2', '02_3', '03_4']:\n",
    "    print(obj if len(obj) <7 else obj[:7], end='\\t')\n",
    "    r = read_res_test('exp_03_countTag', obj)\n",
    "    print(f'{r['F1_0.50']}\\t{r['F1_0.95'] }\\t{r['mAP']}')"
   ]
  },
  {
   "cell_type": "markdown",
   "id": "d7d6c546-055f-44ea-ae3a-9f037d6531ce",
   "metadata": {},
   "source": [
    "### Exp 4. (k-глубина)\n",
    "В работе у слоев tag стоит k=3, варианты 1-6."
   ]
  },
  {
   "cell_type": "code",
   "execution_count": 34,
   "id": "a9bd0a83-c5c0-4eaa-abbd-f62d2af7a5db",
   "metadata": {},
   "outputs": [
    {
     "name": "stdout",
     "output_type": "stream",
     "text": [
      "exp \t F1_0.50 \t F1_0.95 \t mAP\n",
      "01_1\t0.49533679\t0.27564767\t0.06838913\n",
      "02_2\t0.45540399\t0.27072403\t0.05975045\n",
      "03_3\t0.44635193\t0.24034335\t0.05098085\n"
     ]
    }
   ],
   "source": [
    "print(\"exp \\t F1_0.50 \\t F1_0.95 \\t mAP\")\n",
    "for obj in ['01_1', '02_2', '03_3']: #, '04_4', '05_5', '06_6']:\n",
    "    print(obj if len(obj) <7 else obj[:7], end='\\t')\n",
    "    r = read_res_test('exp_04_kTag', obj)\n",
    "    print(f'{r['F1_0.50']}\\t{r['F1_0.95'] }\\t{r['mAP']}')"
   ]
  },
  {
   "cell_type": "code",
   "execution_count": null,
   "id": "164a1be4-9d2e-4483-82c0-dedce6561fe4",
   "metadata": {},
   "outputs": [],
   "source": []
  }
 ],
 "metadata": {
  "kernelspec": {
   "display_name": "Python 3 (ipykernel)",
   "language": "python",
   "name": "python3"
  },
  "language_info": {
   "codemirror_mode": {
    "name": "ipython",
    "version": 3
   },
   "file_extension": ".py",
   "mimetype": "text/x-python",
   "name": "python",
   "nbconvert_exporter": "python",
   "pygments_lexer": "ipython3",
   "version": "3.12.3"
  }
 },
 "nbformat": 4,
 "nbformat_minor": 5
}
